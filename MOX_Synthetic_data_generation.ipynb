{
 "cells": [
  {
   "cell_type": "code",
   "execution_count": null,
   "id": "9bc421fa",
   "metadata": {},
   "outputs": [],
   "source": [
    "import pandas as pd\n",
    "import numpy as np\n",
    "import matplotlib.pyplot as plt\n",
    "import seaborn as sns\n",
    "from copulas.multivariate import GaussianMultivariate\n",
    "from statsmodels.regression.linear_model import OLS\n",
    "from stargazer.stargazer import Stargazer"
   ]
  },
  {
   "cell_type": "code",
   "execution_count": null,
   "id": "42a695a3",
   "metadata": {},
   "outputs": [],
   "source": [
    "import warnings\n",
    "warnings.filterwarnings(\"ignore\")"
   ]
  },
  {
   "cell_type": "code",
   "execution_count": null,
   "id": "e5717aac",
   "metadata": {},
   "outputs": [],
   "source": [
    "df = pd.read_csv('MOX2_5_data_labelled.csv')"
   ]
  },
  {
   "cell_type": "code",
   "execution_count": null,
   "id": "61902cfe",
   "metadata": {},
   "outputs": [],
   "source": [
    "final_cols = ['Sedentary', 'LPA', 'MPA', 'VPA', 'Steps', 'active']"
   ]
  },
  {
   "cell_type": "code",
   "execution_count": null,
   "id": "56b615c8",
   "metadata": {},
   "outputs": [],
   "source": [
    "len(df)"
   ]
  },
  {
   "cell_type": "code",
   "execution_count": null,
   "id": "6fbaf63a",
   "metadata": {},
   "outputs": [],
   "source": [
    "df.head()"
   ]
  },
  {
   "cell_type": "code",
   "execution_count": null,
   "id": "cd458205",
   "metadata": {},
   "outputs": [],
   "source": [
    "df = df.fillna(df.median())"
   ]
  },
  {
   "cell_type": "code",
   "execution_count": null,
   "id": "67792e79",
   "metadata": {},
   "outputs": [],
   "source": [
    "df.head()"
   ]
  },
  {
   "cell_type": "code",
   "execution_count": null,
   "id": "8cde2cc2",
   "metadata": {},
   "outputs": [],
   "source": [
    "df.columns"
   ]
  },
  {
   "cell_type": "code",
   "execution_count": null,
   "id": "3d86a428",
   "metadata": {},
   "outputs": [],
   "source": [
    "fig, ax = plt.subplots()\n",
    "sns.heatmap(df[final_cols].corr(method='pearson'), annot=True, fmt='.2f', \n",
    "            cmap=plt.get_cmap('Greys'), cbar=False, linewidths=1, ax=ax)\n",
    "ax.set_yticklabels(ax.get_yticklabels(), rotation=\"horizontal\")\n",
    "plt.savefig('result.png', bbox_inches='tight', pad_inches=0.0, dpi=300)"
   ]
  },
  {
   "cell_type": "code",
   "execution_count": null,
   "id": "6fd5d523",
   "metadata": {},
   "outputs": [],
   "source": [
    "X = ['Sedentary', 'LPA', 'MPA', 'VPA', 'Steps']\n",
    "Y = ['active']\n",
    "all_X = X+Y"
   ]
  },
  {
   "cell_type": "code",
   "execution_count": null,
   "id": "0dfd0412",
   "metadata": {},
   "outputs": [],
   "source": [
    "#Synthetic data GP\n",
    "s_df = GaussianMultivariate()\n",
    "s_df.fit(df[all_X])"
   ]
  },
  {
   "cell_type": "code",
   "execution_count": null,
   "id": "10f8f812",
   "metadata": {},
   "outputs": [],
   "source": [
    "s_data = s_df.sample(len(df))\n",
    "s_data.head()"
   ]
  },
  {
   "cell_type": "code",
   "execution_count": null,
   "id": "d5da7d41",
   "metadata": {},
   "outputs": [],
   "source": [
    "len(s_data)"
   ]
  },
  {
   "cell_type": "code",
   "execution_count": null,
   "id": "b6317544",
   "metadata": {},
   "outputs": [],
   "source": [
    "df[all_X].describe().transpose().round(2)"
   ]
  },
  {
   "cell_type": "code",
   "execution_count": null,
   "id": "4b31df8c",
   "metadata": {},
   "outputs": [],
   "source": [
    "s_data[all_X].describe().transpose().round(2)"
   ]
  },
  {
   "cell_type": "code",
   "execution_count": null,
   "id": "2d148b85",
   "metadata": {},
   "outputs": [],
   "source": [
    "df[all_X].cov().round(2).iloc[:,:]"
   ]
  },
  {
   "cell_type": "code",
   "execution_count": null,
   "id": "c3a35a31",
   "metadata": {},
   "outputs": [],
   "source": [
    "s_data[all_X].cov().round(2).iloc[:,:]"
   ]
  },
  {
   "cell_type": "code",
   "execution_count": null,
   "id": "1abb4bed",
   "metadata": {},
   "outputs": [],
   "source": [
    "fig = plt.figure(figsize=(12,8))\n",
    "ax1 = fig.add_subplot(1,2,1,projection='3d')\n",
    "ax1.scatter(df.LPA, df.MPA, df.VPA)\n",
    "\n",
    "ax2 = fig.add_subplot(1,2,2,projection='3d')\n",
    "ax2.scatter(s_data.LPA, s_data.MPA, s_data.VPA)"
   ]
  },
  {
   "cell_type": "code",
   "execution_count": null,
   "id": "f7a85d90",
   "metadata": {},
   "outputs": [],
   "source": [
    "fit1 = OLS(df[Y], df[X]).fit()\n",
    "fit2 = OLS(s_data[Y], s_data[X]).fit()\n",
    "Stargazer([fit1, fit2])"
   ]
  },
  {
   "cell_type": "code",
   "execution_count": null,
   "id": "c442c83b",
   "metadata": {},
   "outputs": [],
   "source": [
    "def calculate_lebel(df):\n",
    "    if ((df['Steps'] < 5000) and ((df['VPA']*2 + df['MPA'])*7 < 90) and (df['LPA'] >=0)): #sedentary\n",
    "        return 0\n",
    "    elif ((df['Steps'] >= 5000) and ((df['VPA']*2 + df['MPA'])*7 >= 90) and (df['VPA']*2 + df['MPA'])*7 < 210) or (df['Steps'] >= 5000 and df['Steps'] <= 7499): #LPA\n",
    "        return 1\n",
    "    elif ((df['Steps'] >= 5000) and ((df['VPA']*2 + df['MPA'])*7 >= 210) and (df['VPA']*2 + df['MPA'])*7 < 300) or (df['Steps'] >= 7500 and df['Steps'] <= 9999): #MPA\n",
    "        return 2\n",
    "    elif ((df['Steps'] >= 5000) and ((df['VPA']*2 + df['MPA'])*7 >= 300) and (df['VPA']*2 + df['MPA'])*7 < 360) or (df['Steps'] >= 10000 and df['Steps'] <= 12499): #MPA\n",
    "        return 3\n",
    "    elif ((df['Steps'] >= 5000) and (df['VPA']*2 + df['MPA'])*7 >= 360) or (df['Steps'] >= 12500): #VPA\n",
    "        return 4\n",
    "    elif (df['Steps'] < 5000):\n",
    "        return 0"
   ]
  },
  {
   "cell_type": "code",
   "execution_count": null,
   "id": "0e976338",
   "metadata": {},
   "outputs": [],
   "source": [
    "s_data['active'] = s_data.apply(calculate_lebel, axis=1)"
   ]
  },
  {
   "cell_type": "code",
   "execution_count": null,
   "id": "26dff1cb",
   "metadata": {},
   "outputs": [],
   "source": [
    "import seaborn as sns\n",
    "import matplotlib.pyplot as plt\n",
    " \n",
    "# count plot on single categorical variable\n",
    "sns.countplot(x ='active', data = df, palette = \"Set2\", saturation = 0.1) \n",
    "plt.savefig('result_1.png', bbox_inches='tight', pad_inches=1.0, dpi=300)"
   ]
  },
  {
   "cell_type": "code",
   "execution_count": null,
   "id": "8ccf4957",
   "metadata": {},
   "outputs": [],
   "source": [
    "import seaborn as sns\n",
    "import matplotlib.pyplot as plt\n",
    " \n",
    "# count plot on single categorical variable\n",
    "sns.countplot(x ='active', data = s_data, palette = \"Set2\", saturation = 0.1) \n",
    "plt.savefig('result_2.png', bbox_inches='tight', pad_inches=1.0, dpi=300)"
   ]
  },
  {
   "cell_type": "code",
   "execution_count": null,
   "id": "d1a228c8",
   "metadata": {},
   "outputs": [],
   "source": [
    "fig, ax = plt.subplots()\n",
    "sns.heatmap(s_data[final_cols].corr(method='pearson'), annot=True, fmt='.2f', \n",
    "            cmap=plt.get_cmap('Greys'), cbar=False, linewidths=1, ax=ax)\n",
    "ax.set_yticklabels(ax.get_yticklabels(), rotation=\"horizontal\")\n",
    "plt.savefig('result.png', bbox_inches='tight', pad_inches=0.0, dpi=300)"
   ]
  },
  {
   "cell_type": "code",
   "execution_count": null,
   "id": "10e5d09b",
   "metadata": {},
   "outputs": [],
   "source": [
    "s_data[all_X].describe().transpose().round(2)"
   ]
  },
  {
   "cell_type": "code",
   "execution_count": null,
   "id": "cb52ab20",
   "metadata": {},
   "outputs": [],
   "source": [
    "fit1 = OLS(df[Y], df[X]).fit()\n",
    "fit2 = OLS(s_data[Y], s_data[X]).fit()\n",
    "Stargazer([fit1, fit2])"
   ]
  },
  {
   "cell_type": "code",
   "execution_count": null,
   "id": "fe005194",
   "metadata": {},
   "outputs": [],
   "source": [
    "s_data.to_csv('augmented_data_GC.csv')"
   ]
  },
  {
   "cell_type": "code",
   "execution_count": null,
   "id": "97a7ecdd",
   "metadata": {},
   "outputs": [],
   "source": [
    "#CTGAN\n",
    "import pandas as pd\n",
    "from ctgan.synthesizer import CTGANSynthesizer\n",
    "from sdv.tabular import CTGAN"
   ]
  },
  {
   "cell_type": "code",
   "execution_count": null,
   "id": "2cdf32c0",
   "metadata": {},
   "outputs": [],
   "source": [
    "data = df.copy()\n",
    "data.columns.values"
   ]
  },
  {
   "cell_type": "code",
   "execution_count": null,
   "id": "e1592085",
   "metadata": {},
   "outputs": [],
   "source": [
    "data.head()"
   ]
  },
  {
   "cell_type": "code",
   "execution_count": null,
   "id": "b893ae31",
   "metadata": {},
   "outputs": [],
   "source": [
    "data.shape, data.shape[0], data.shape[1]"
   ]
  },
  {
   "cell_type": "code",
   "execution_count": null,
   "id": "12d43510",
   "metadata": {},
   "outputs": [],
   "source": [
    "all_ = ['ID', 'Sedentary', 'LPA', 'MPA', 'VPA', 'Steps', 'active']"
   ]
  },
  {
   "cell_type": "code",
   "execution_count": null,
   "id": "fc22dd41",
   "metadata": {},
   "outputs": [],
   "source": [
    "ctgan = CTGANSynthesizer()\n",
    "ctgan.fit(data, all_, epochs=200)"
   ]
  },
  {
   "cell_type": "code",
   "execution_count": null,
   "id": "7cdcbb87",
   "metadata": {},
   "outputs": [],
   "source": [
    "# Synthetic copy\n",
    "samples = ctgan.sample(data.shape[0])\n",
    "samples.head()"
   ]
  },
  {
   "cell_type": "code",
   "execution_count": null,
   "id": "045a7c5e",
   "metadata": {},
   "outputs": [],
   "source": [
    "len(samples)"
   ]
  },
  {
   "cell_type": "code",
   "execution_count": null,
   "id": "9531c3f2",
   "metadata": {},
   "outputs": [],
   "source": [
    "#Create new samples\n",
    "data_aug = df.copy()"
   ]
  },
  {
   "cell_type": "code",
   "execution_count": null,
   "id": "925f07ba",
   "metadata": {},
   "outputs": [],
   "source": [
    "model = CTGAN(primary_key='ID')"
   ]
  },
  {
   "cell_type": "code",
   "execution_count": null,
   "id": "c183c68d",
   "metadata": {},
   "outputs": [],
   "source": [
    "model.fit(data_aug)"
   ]
  },
  {
   "cell_type": "code",
   "execution_count": null,
   "id": "c089594a",
   "metadata": {},
   "outputs": [],
   "source": [
    "augmented_data = model.sample(data.shape[0])\n",
    "augmented_data.head()"
   ]
  },
  {
   "cell_type": "code",
   "execution_count": null,
   "id": "88e63f81",
   "metadata": {},
   "outputs": [],
   "source": [
    "len(augmented_data)"
   ]
  },
  {
   "cell_type": "code",
   "execution_count": null,
   "id": "b9553284",
   "metadata": {},
   "outputs": [],
   "source": [
    "augmented_data = augmented_data[final_cols]"
   ]
  },
  {
   "cell_type": "code",
   "execution_count": null,
   "id": "7bccf2af",
   "metadata": {},
   "outputs": [],
   "source": [
    "augmented_data['active'] = augmented_data.apply(calculate_lebel, axis=1)"
   ]
  },
  {
   "cell_type": "code",
   "execution_count": null,
   "id": "268b22d0",
   "metadata": {},
   "outputs": [],
   "source": [
    "fig, ax = plt.subplots()\n",
    "sns.heatmap(augmented_data[final_cols].corr(method='pearson'), annot=True, fmt='.2f', \n",
    "            cmap=plt.get_cmap('Greys'), cbar=False, linewidths=1, ax=ax)\n",
    "ax.set_yticklabels(ax.get_yticklabels(), rotation=\"horizontal\")\n",
    "plt.savefig('result_3.png', bbox_inches='tight', pad_inches=0.0, dpi=300)"
   ]
  },
  {
   "cell_type": "code",
   "execution_count": null,
   "id": "0c73cbf9",
   "metadata": {},
   "outputs": [],
   "source": [
    "# count plot on single categorical variable\n",
    "sns.countplot(x ='active', data = augmented_data, palette = \"Set2\", saturation = 0.1) \n",
    "plt.savefig('result_4.png', bbox_inches='tight', pad_inches=1.0, dpi=300)"
   ]
  },
  {
   "cell_type": "code",
   "execution_count": null,
   "id": "fbd863f6",
   "metadata": {},
   "outputs": [],
   "source": [
    "augmented_data.to_csv('augmented_data_CTGAN.csv')"
   ]
  },
  {
   "cell_type": "code",
   "execution_count": null,
   "id": "026fded4",
   "metadata": {},
   "outputs": [],
   "source": [
    "data[all_X].describe().transpose().round(2)"
   ]
  },
  {
   "cell_type": "code",
   "execution_count": null,
   "id": "1aaf9c3b",
   "metadata": {},
   "outputs": [],
   "source": [
    "augmented_data[all_X].describe().transpose().round(2)"
   ]
  },
  {
   "cell_type": "code",
   "execution_count": null,
   "id": "65e9d5b9",
   "metadata": {},
   "outputs": [],
   "source": [
    "data[all_X].cov().round(2).iloc[:,:]"
   ]
  },
  {
   "cell_type": "code",
   "execution_count": null,
   "id": "e3e82ab3",
   "metadata": {},
   "outputs": [],
   "source": [
    "augmented_data[all_X].cov().round(2).iloc[:,:]"
   ]
  },
  {
   "cell_type": "code",
   "execution_count": null,
   "id": "af0828f1",
   "metadata": {},
   "outputs": [],
   "source": [
    "fig = plt.figure(figsize=(12,8))\n",
    "ax1 = fig.add_subplot(1,2,1,projection='3d')\n",
    "ax1.scatter(data.LPA, data.MPA, data.VPA)\n",
    "\n",
    "ax2 = fig.add_subplot(1,2,2,projection='3d')\n",
    "ax2.scatter(augmented_data.LPA, augmented_data.MPA, augmented_data.VPA)"
   ]
  },
  {
   "cell_type": "code",
   "execution_count": null,
   "id": "fde221b3",
   "metadata": {},
   "outputs": [],
   "source": [
    "fit1 = OLS(data[Y], data[X]).fit()\n",
    "fit2 = OLS(augmented_data[Y], augmented_data[X]).fit()\n",
    "Stargazer([fit1, fit2])"
   ]
  },
  {
   "cell_type": "code",
   "execution_count": null,
   "id": "764ee481",
   "metadata": {},
   "outputs": [],
   "source": [
    "#TABGAN\n",
    "import numpy as np\n",
    "import pandas as pd\n",
    "import os\n",
    "import matplotlib.pyplot as plt\n",
    "from keras.models import Sequential\n",
    "from keras.layers import Dense\n",
    "from numpy.random import randn\n",
    "from matplotlib import pyplot\n",
    "from sklearn.model_selection import train_test_split\n",
    "from sklearn.ensemble import RandomForestClassifier\n",
    "from sklearn import metrics"
   ]
  },
  {
   "cell_type": "code",
   "execution_count": null,
   "id": "6d71d556",
   "metadata": {},
   "outputs": [],
   "source": [
    "data2 = df.copy()\n",
    "data2.head()"
   ]
  },
  {
   "cell_type": "code",
   "execution_count": null,
   "id": "45965685",
   "metadata": {},
   "outputs": [],
   "source": [
    "data2.shape"
   ]
  },
  {
   "cell_type": "code",
   "execution_count": null,
   "id": "2c57fe41",
   "metadata": {},
   "outputs": [],
   "source": [
    "data2.columns"
   ]
  },
  {
   "cell_type": "code",
   "execution_count": null,
   "id": "febb7daf",
   "metadata": {},
   "outputs": [],
   "source": [
    "#Generate Synthetic Data\n",
    "def generate_latent_points(latent_dim, n_samples):\n",
    "    x_input = randn(latent_dim * n_samples)\n",
    "    x_input = x_input.reshape(n_samples, latent_dim)\n",
    "    return x_input"
   ]
  },
  {
   "cell_type": "code",
   "execution_count": null,
   "id": "e07b46af",
   "metadata": {},
   "outputs": [],
   "source": [
    "# use the generator to generate n fake examples, with class labels\n",
    "def generate_fake_samples(generator, latent_dim, n_samples):\n",
    "    x_input = generate_latent_points(latent_dim, n_samples)\n",
    "    X = generator.predict(x_input)\n",
    "    y = np.zeros((n_samples, 1))\n",
    "    \n",
    "    return X, y"
   ]
  },
  {
   "cell_type": "code",
   "execution_count": null,
   "id": "a6745b03",
   "metadata": {},
   "outputs": [],
   "source": [
    "# generate n real samples with class labels; We randomly select n samples from the real data\n",
    "#The label for the real data sample is 1\n",
    "def generate_real_samples(n):\n",
    "    X = data.sample(n)\n",
    "    y = np.ones((n, 1))\n",
    "    return X, y"
   ]
  },
  {
   "cell_type": "code",
   "execution_count": null,
   "id": "b77fc5f6",
   "metadata": {},
   "outputs": [],
   "source": [
    "def define_generator(latent_dim, n_outputs=7):\n",
    "    model = Sequential()\n",
    "    model.add(Dense(15, activation='relu',  kernel_initializer='he_uniform', input_dim=latent_dim))\n",
    "    model.add(Dense(30, activation='relu'))\n",
    "    model.add(Dense(n_outputs, activation='linear'))\n",
    "    return model"
   ]
  },
  {
   "cell_type": "code",
   "execution_count": null,
   "id": "15ba1e65",
   "metadata": {},
   "outputs": [],
   "source": [
    "generator1 = define_generator(10, data2.shape[1])\n",
    "generator1.summary()"
   ]
  },
  {
   "cell_type": "code",
   "execution_count": null,
   "id": "c99c1e39",
   "metadata": {},
   "outputs": [],
   "source": [
    "def define_discriminator(n_inputs=7):\n",
    "    model = Sequential()\n",
    "    model.add(Dense(25, activation='relu', kernel_initializer='he_uniform', input_dim=n_inputs))\n",
    "    model.add(Dense(50, activation='relu'))\n",
    "    model.add(Dense(1, activation='sigmoid'))\n",
    "    # compile model\n",
    "    model.compile(loss='binary_crossentropy', optimizer='adam', metrics=['accuracy'])\n",
    "    \n",
    "    return model"
   ]
  },
  {
   "cell_type": "code",
   "execution_count": null,
   "id": "90b6c378",
   "metadata": {},
   "outputs": [],
   "source": [
    "discriminator1 = define_discriminator(data2.shape[1])\n",
    "discriminator1.summary()"
   ]
  },
  {
   "cell_type": "code",
   "execution_count": null,
   "id": "f8e08b7a",
   "metadata": {},
   "outputs": [],
   "source": [
    "# define the combined generator and discriminator model, for updating the generator\n",
    "def define_gan(generator, discriminator):\n",
    "    # make weights in the discriminator not trainable\n",
    "    discriminator.trainable = False\n",
    "    model = Sequential()\n",
    "    # add generator\n",
    "    model.add(generator)\n",
    "    # add the discriminator\n",
    "    model.add(discriminator)\n",
    "    # compile model\n",
    "    model.compile(loss='binary_crossentropy', optimizer='adam')\n",
    "    return model"
   ]
  },
  {
   "cell_type": "code",
   "execution_count": null,
   "id": "5fe9f213",
   "metadata": {},
   "outputs": [],
   "source": [
    "# create a line plot of loss for the gan and save to file\n",
    "def plot_history(d_hist, g_hist):\n",
    "    # plot loss\n",
    "    plt.subplot(1, 1, 1)\n",
    "    plt.plot(d_hist, label='d')\n",
    "    plt.plot(g_hist, label='gen')\n",
    "    plt.show()\n",
    "    plt.close()"
   ]
  },
  {
   "cell_type": "code",
   "execution_count": null,
   "id": "93368466",
   "metadata": {},
   "outputs": [],
   "source": [
    "def train(g_model, d_model, gan_model, latent_dim, n_epochs=10000, n_batch=128, n_eval=200):\n",
    "    # determine half the size of one batch, for updating the  discriminator\n",
    "    half_batch = int(n_batch / 2)\n",
    "    d_history = []\n",
    "    g_history = []\n",
    "    # manually enumerate epochs\n",
    "    for epoch in range(n_epochs):\n",
    "    \n",
    "        # prepare real samples\n",
    "        x_real, y_real = generate_real_samples(half_batch)\n",
    "        # prepare fake examples\n",
    "        x_fake, y_fake = generate_fake_samples(g_model, latent_dim, half_batch)\n",
    "        # update discriminator\n",
    "        d_loss_real, d_real_acc = d_model.train_on_batch(x_real, y_real)\n",
    "        d_loss_fake, d_fake_acc = d_model.train_on_batch(x_fake, y_fake)\n",
    "        d_loss = 0.5 * np.add(d_loss_real, d_loss_fake)\n",
    "        # prepare points in latent space as input for the generator\n",
    "        x_gan = generate_latent_points(latent_dim, n_batch)\n",
    "        # create inverted labels for the fake samples\n",
    "        y_gan = np.ones((n_batch, 1))\n",
    "        # update the generator via the discriminator's error\n",
    "        g_loss_fake = gan_model.train_on_batch(x_gan, y_gan)\n",
    "        print('>%d, d1=%.3f, d2=%.3f d=%.3f g=%.3f' % (epoch+1, d_loss_real, d_loss_fake, d_loss,  g_loss_fake))\n",
    "        d_history.append(d_loss)\n",
    "        g_history.append(g_loss_fake)\n",
    "        plot_history(d_history, g_history)\n",
    "        g_model.save('trained_generated_model.h5')"
   ]
  },
  {
   "cell_type": "code",
   "execution_count": null,
   "id": "45a5ca4a",
   "metadata": {},
   "outputs": [],
   "source": [
    "# size of the latent space\n",
    "latent_dim = 10\n",
    "# create the discriminator\n",
    "discriminator = define_discriminator()\n",
    "# create the generator\n",
    "generator = define_generator(latent_dim)\n",
    "# create the gan\n",
    "gan_model = define_gan(generator, discriminator)\n",
    "# train model\n",
    "train(generator, discriminator, gan_model, latent_dim)"
   ]
  },
  {
   "cell_type": "code",
   "execution_count": null,
   "id": "9744fdd1",
   "metadata": {},
   "outputs": [],
   "source": [
    "#Evaluate the Quality of Generated Fake Data With Model\n",
    "from keras.models import load_model\n",
    "model =load_model('trained_generated_model.h5')"
   ]
  },
  {
   "cell_type": "code",
   "execution_count": null,
   "id": "2458c1b3",
   "metadata": {},
   "outputs": [],
   "source": [
    "latent_points = generate_latent_points(latent_dim, data2.shape[0])\n",
    "XX = model.predict(latent_points)\n",
    "data_fake = pd.DataFrame(data=XX,  columns=data2.columns)\n",
    "data_fake.head()"
   ]
  },
  {
   "cell_type": "code",
   "execution_count": null,
   "id": "67f3089f",
   "metadata": {},
   "outputs": [],
   "source": [
    "data_fake = data_fake[final_cols]"
   ]
  },
  {
   "cell_type": "code",
   "execution_count": null,
   "id": "71d4145e",
   "metadata": {},
   "outputs": [],
   "source": [
    "data_fake['active'] = data_fake.apply(calculate_lebel, axis=1)"
   ]
  },
  {
   "cell_type": "code",
   "execution_count": null,
   "id": "94c7e5b4",
   "metadata": {},
   "outputs": [],
   "source": [
    "# count plot on single categorical variable\n",
    "sns.countplot(x ='active', data = data_fake, palette = \"Set2\", saturation = 0.1) \n",
    "plt.savefig('result_1.png', bbox_inches='tight', pad_inches=1.0, dpi=300)"
   ]
  },
  {
   "cell_type": "code",
   "execution_count": null,
   "id": "f5e47c81",
   "metadata": {},
   "outputs": [],
   "source": [
    "fig, ax = plt.subplots()\n",
    "sns.heatmap(data_fake[final_cols].corr(method='pearson'), annot=True, fmt='.2f', \n",
    "            cmap=plt.get_cmap('Greys'), cbar=False, linewidths=1, ax=ax)\n",
    "ax.set_yticklabels(ax.get_yticklabels(), rotation=\"horizontal\")\n",
    "plt.savefig('result.png', bbox_inches='tight', pad_inches=0.0, dpi=300)"
   ]
  },
  {
   "cell_type": "code",
   "execution_count": null,
   "id": "1c605147",
   "metadata": {},
   "outputs": [],
   "source": [
    "data_fake.to_csv(\"augmented_data_TBGAN.csv\")"
   ]
  },
  {
   "cell_type": "code",
   "execution_count": null,
   "id": "b8ee0697",
   "metadata": {},
   "outputs": [],
   "source": [
    "data_fake[all_X].describe().transpose().round(2)"
   ]
  },
  {
   "cell_type": "code",
   "execution_count": null,
   "id": "bb10e66e",
   "metadata": {},
   "outputs": [],
   "source": [
    "data_fake[all_X].cov().round(2).iloc[:,:]"
   ]
  },
  {
   "cell_type": "code",
   "execution_count": null,
   "id": "dc09e030",
   "metadata": {},
   "outputs": [],
   "source": [
    "fig = plt.figure(figsize=(12,8))\n",
    "ax1 = fig.add_subplot(1,2,1,projection='3d')\n",
    "ax1.scatter(data.LPA, data.MPA, data.VPA)\n",
    "\n",
    "ax2 = fig.add_subplot(1,2,2,projection='3d')\n",
    "ax2.scatter(data_fake.LPA, data_fake.MPA, data_fake.VPA)"
   ]
  },
  {
   "cell_type": "code",
   "execution_count": null,
   "id": "2053520d",
   "metadata": {},
   "outputs": [],
   "source": [
    "fit1 = OLS(data[Y], data[X]).fit()\n",
    "fit2 = OLS(data_fake[Y], data_fake[X]).fit()\n",
    "Stargazer([fit1, fit2])"
   ]
  },
  {
   "cell_type": "code",
   "execution_count": null,
   "id": "1ddd0880",
   "metadata": {},
   "outputs": [],
   "source": [
    "fit1 = OLS(data[Y], data[X]).fit()\n",
    "fit2 = OLS(s_data[Y], s_data[X]).fit() #GC\n",
    "fit3 = OLS(augmented_data[Y], augmented_data[X]).fit() #CTGAN\n",
    "fit4 = OLS(data_fake[Y], data_fake[X]).fit() #TABGAN\n",
    "Stargazer([fit1, fit2, fit3, fit4])"
   ]
  },
  {
   "cell_type": "code",
   "execution_count": null,
   "id": "c55041ee",
   "metadata": {},
   "outputs": [],
   "source": [
    "from table_evaluator import load_data, TableEvaluator\n",
    "\n",
    "table_evaluator = TableEvaluator(data[final_cols], augmented_data[final_cols])\n",
    "table_evaluator.evaluate(target_col='active')"
   ]
  },
  {
   "cell_type": "code",
   "execution_count": null,
   "id": "f82a5f3a",
   "metadata": {},
   "outputs": [],
   "source": [
    "table_evaluator.visual_evaluation()"
   ]
  },
  {
   "cell_type": "code",
   "execution_count": null,
   "id": "6879e2fe",
   "metadata": {},
   "outputs": [],
   "source": [
    "from table_evaluator import load_data, TableEvaluator\n",
    "\n",
    "table_evaluator = TableEvaluator(data[final_cols], s_data[final_cols])\n",
    "table_evaluator.evaluate(target_col='active')"
   ]
  },
  {
   "cell_type": "code",
   "execution_count": null,
   "id": "d29eac0c",
   "metadata": {},
   "outputs": [],
   "source": [
    "table_evaluator.visual_evaluation()"
   ]
  },
  {
   "cell_type": "code",
   "execution_count": null,
   "id": "e23a6893",
   "metadata": {},
   "outputs": [],
   "source": [
    "X1 = data[X]\n",
    "y1 = data[Y]\n",
    "\n",
    "X_true_train, X_true_test, y_true_train, y_true_test = train_test_split(X1, y1, test_size=0.30, random_state=42)\n",
    "\n",
    "clf_true = RandomForestClassifier(n_estimators=100)\n",
    "clf_true.fit(X_true_train,y_true_train)\n",
    "y_true_pred=clf_true.predict(X_true_test)\n",
    "\n",
    "print(\"Base Accuracy:\",metrics.accuracy_score(y_true_test, y_true_pred))\n",
    "print(\"Base classification report:\",metrics.classification_report(y_true_test, y_true_pred))"
   ]
  },
  {
   "cell_type": "code",
   "execution_count": null,
   "id": "f928b705",
   "metadata": {},
   "outputs": [],
   "source": [
    "X_fake_created = data_fake[X]\n",
    "y_fake_created = data_fake[Y]\n",
    "\n",
    "\n",
    "X_fake_train, X_fake_test, y_fake_train, y_fake_test = train_test_split(X_fake_created, y_fake_created, test_size=0.30, random_state=42)\n",
    "\n",
    "clf_fake = RandomForestClassifier(n_estimators=100)\n",
    "clf_fake.fit(X_fake_train,y_fake_train)\n",
    "y_fake_pred=clf_fake.predict(X_fake_test)\n",
    "\n",
    "print(\"Accuracy of fake data model:\",metrics.accuracy_score(y_fake_test, y_fake_pred))\n",
    "print(\"Classification report of fake data model:\",metrics.classification_report(y_fake_test, y_fake_pred))"
   ]
  },
  {
   "cell_type": "code",
   "execution_count": null,
   "id": "9ceee162",
   "metadata": {},
   "outputs": [],
   "source": [
    "X_fake_created = augmented_data[X]\n",
    "y_fake_created = augmented_data[Y]\n",
    "\n",
    "\n",
    "X_fake_train, X_fake_test, y_fake_train, y_fake_test = train_test_split(X_fake_created, y_fake_created, test_size=0.30, random_state=42)\n",
    "\n",
    "clf_fake = RandomForestClassifier(n_estimators=100)\n",
    "clf_fake.fit(X_fake_train,y_fake_train)\n",
    "y_fake_pred=clf_fake.predict(X_fake_test)\n",
    "\n",
    "print(\"Accuracy of fake data model:\",metrics.accuracy_score(y_fake_test, y_fake_pred))\n",
    "print(\"Classification report of fake data model:\",metrics.classification_report(y_fake_test, y_fake_pred))"
   ]
  },
  {
   "cell_type": "code",
   "execution_count": null,
   "id": "2eb646ea",
   "metadata": {},
   "outputs": [],
   "source": [
    "X_fake_created = s_data[X]\n",
    "y_fake_created = s_data[Y]\n",
    "\n",
    "\n",
    "X_fake_train, X_fake_test, y_fake_train, y_fake_test = train_test_split(X_fake_created, y_fake_created, test_size=0.30, random_state=42)\n",
    "\n",
    "clf_fake = RandomForestClassifier(n_estimators=100)\n",
    "clf_fake.fit(X_fake_train,y_fake_train)\n",
    "y_fake_pred=clf_fake.predict(X_fake_test)\n",
    "\n",
    "print(\"Accuracy of fake data model:\",metrics.accuracy_score(y_fake_test, y_fake_pred))\n",
    "print(\"Classification report of fake data model:\",metrics.classification_report(y_fake_test, y_fake_pred))"
   ]
  },
  {
   "cell_type": "code",
   "execution_count": null,
   "id": "ef064196",
   "metadata": {},
   "outputs": [],
   "source": []
  }
 ],
 "metadata": {
  "kernelspec": {
   "display_name": "Python 3 (ipykernel)",
   "language": "python",
   "name": "python3"
  },
  "language_info": {
   "codemirror_mode": {
    "name": "ipython",
    "version": 3
   },
   "file_extension": ".py",
   "mimetype": "text/x-python",
   "name": "python",
   "nbconvert_exporter": "python",
   "pygments_lexer": "ipython3",
   "version": "3.9.15"
  }
 },
 "nbformat": 4,
 "nbformat_minor": 5
}
