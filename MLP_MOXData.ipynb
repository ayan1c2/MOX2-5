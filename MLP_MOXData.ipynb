{
 "cells": [
  {
   "cell_type": "code",
   "execution_count": 1,
   "id": "289e62d6",
   "metadata": {},
   "outputs": [
    {
     "name": "stderr",
     "output_type": "stream",
     "text": [
      "C:\\Users\\ayan1\\anaconda3\\lib\\site-packages\\numpy\\_distributor_init.py:30: UserWarning: loaded more than 1 DLL from .libs:\n",
      "C:\\Users\\ayan1\\anaconda3\\lib\\site-packages\\numpy\\.libs\\libopenblas.EL2C6PLE4ZYW3ECEVIV3OXXGRN2NRFM2.gfortran-win_amd64.dll\n",
      "C:\\Users\\ayan1\\anaconda3\\lib\\site-packages\\numpy\\.libs\\libopenblas.GK7GX5KEQ4F6UYO3P26ULGBQYHGQO7J4.gfortran-win_amd64.dll\n",
      "  warnings.warn(\"loaded more than 1 DLL from .libs:\"\n"
     ]
    }
   ],
   "source": [
    "#https://www.analyticsvidhya.com/blog/2021/07/performing-multi-class-classification-on-fifa-dataset-using-keras/\n",
    "\n",
    "from sklearn.metrics import precision_score\n",
    "from sklearn.metrics import confusion_matrix\n",
    "from sklearn.metrics import recall_score, roc_auc_score\n",
    "from sklearn.metrics import f1_score\n",
    "from sklearn.model_selection import cross_val_score, train_test_split\n",
    "from sklearn.metrics import accuracy_score\n",
    "from keras.callbacks import ReduceLROnPlateau\n",
    "\n",
    "import matplotlib.pyplot as plt\n",
    "import time\n",
    "import pandas as pd\n",
    "import numpy as np "
   ]
  },
  {
   "cell_type": "code",
   "execution_count": 2,
   "id": "e76b465e",
   "metadata": {},
   "outputs": [],
   "source": [
    "from keras.models import Sequential\n",
    "from keras.layers import Dense\n",
    "from keras.layers import Dropout, AlphaDropout\n",
    "from keras.wrappers.scikit_learn import KerasClassifier\n",
    "from keras.utils import np_utils\n",
    "from sklearn.model_selection import cross_val_score\n",
    "from sklearn.model_selection import KFold\n",
    "from sklearn.preprocessing import LabelEncoder\n",
    "from sklearn.pipeline import Pipeline\n",
    "from sklearn.metrics import classification_report\n",
    "from keras.layers.pooling import GlobalAveragePooling1D\n",
    "from keras.utils.vis_utils import plot_model"
   ]
  },
  {
   "cell_type": "code",
   "execution_count": 3,
   "id": "5fd29b49",
   "metadata": {},
   "outputs": [],
   "source": [
    "import warnings\n",
    "warnings.filterwarnings(\"ignore\")"
   ]
  },
  {
   "cell_type": "code",
   "execution_count": 4,
   "id": "d47d9f6f",
   "metadata": {},
   "outputs": [],
   "source": [
    "rlrop = ReduceLROnPlateau(monitor='val_loss', factor=0.1, patience=100)"
   ]
  },
  {
   "cell_type": "code",
   "execution_count": 5,
   "id": "7b1f9bb0",
   "metadata": {},
   "outputs": [],
   "source": [
    "columns = ['Sedentary', 'LPA', 'MPA', 'VPA', 'Steps', 'active']\n",
    "df = pd.read_csv(r'MOX2_5_data_labelled.csv')\n",
    "df = df[columns]\n",
    "\n",
    "X, y = df.iloc[:, :-1], df.iloc[:, -1]\n",
    "\n",
    "#OR\n",
    "#dataset = df.values\n",
    "#X = dataset[:,0:5].astype(float)\n",
    "#Y = dataset[:,5]"
   ]
  },
  {
   "cell_type": "code",
   "execution_count": 6,
   "id": "855ef667",
   "metadata": {},
   "outputs": [],
   "source": [
    "...\n",
    "# encode class values as integers\n",
    "encoder = LabelEncoder()\n",
    "encoder.fit(y)\n",
    "encoded_Y = encoder.transform(y)\n",
    "# convert integers to dummy variables (i.e. one hot encoded)\n",
    "dummy_y = np_utils.to_categorical(encoded_Y)"
   ]
  },
  {
   "cell_type": "code",
   "execution_count": 7,
   "id": "09fb2e3c",
   "metadata": {},
   "outputs": [
    {
     "name": "stdout",
     "output_type": "stream",
     "text": [
      "(1293, 5) (324, 5) (1293, 5) (324, 5)\n"
     ]
    }
   ],
   "source": [
    "X_train, X_test, y_train, y_test = train_test_split(X, dummy_y, test_size=0.2, random_state=1)\n",
    "\n",
    "print(X_train.shape, X_test.shape, y_train.shape, y_test.shape)"
   ]
  },
  {
   "cell_type": "code",
   "execution_count": 8,
   "id": "53239f68",
   "metadata": {},
   "outputs": [
    {
     "data": {
      "text/plain": [
       "'\\nfrom keras import backend as K\\n\\ndef accuracy(y_true, y_pred):\\n    return K.mean(K.equal(y_true, K.cast(y_pred < border, y_true.dtype)))\\n\\ndef recall_m(y_true, y_pred):\\n    true_positives = K.sum(K.round(K.clip(y_true * y_pred, 0, 1)))\\n    possible_positives = K.sum(K.round(K.clip(y_true, 0, 1)))\\n    recall = true_positives / (possible_positives + K.epsilon())\\n    return recall\\n\\ndef precision_m(y_true, y_pred):\\n    true_positives = K.sum(K.round(K.clip(y_true * y_pred, 0, 1)))\\n    predicted_positives = K.sum(K.round(K.clip(y_pred, 0, 1)))\\n    precision = true_positives / (predicted_positives + K.epsilon())\\n    return precision\\n\\ndef f1_m(y_true, y_pred):\\n    precision = precision_m(y_true, y_pred)\\n    recall = recall_m(y_true, y_pred)\\n    return 2 * ((precision * recall)/(precision + recall + K.epsilon()))\\n    \\n'"
      ]
     },
     "execution_count": 8,
     "metadata": {},
     "output_type": "execute_result"
    }
   ],
   "source": [
    "'''\n",
    "from keras import backend as K\n",
    "\n",
    "def accuracy(y_true, y_pred):\n",
    "    return K.mean(K.equal(y_true, K.cast(y_pred < border, y_true.dtype)))\n",
    "\n",
    "def recall_m(y_true, y_pred):\n",
    "    true_positives = K.sum(K.round(K.clip(y_true * y_pred, 0, 1)))\n",
    "    possible_positives = K.sum(K.round(K.clip(y_true, 0, 1)))\n",
    "    recall = true_positives / (possible_positives + K.epsilon())\n",
    "    return recall\n",
    "\n",
    "def precision_m(y_true, y_pred):\n",
    "    true_positives = K.sum(K.round(K.clip(y_true * y_pred, 0, 1)))\n",
    "    predicted_positives = K.sum(K.round(K.clip(y_pred, 0, 1)))\n",
    "    precision = true_positives / (predicted_positives + K.epsilon())\n",
    "    return precision\n",
    "\n",
    "def f1_m(y_true, y_pred):\n",
    "    precision = precision_m(y_true, y_pred)\n",
    "    recall = recall_m(y_true, y_pred)\n",
    "    return 2 * ((precision * recall)/(precision + recall + K.epsilon()))\n",
    "    \n",
    "'''"
   ]
  },
  {
   "cell_type": "code",
   "execution_count": 9,
   "id": "c44823b7",
   "metadata": {},
   "outputs": [
    {
     "name": "stdout",
     "output_type": "stream",
     "text": [
      "Model: \"sequential\"\n",
      "_________________________________________________________________\n",
      " Layer (type)                Output Shape              Param #   \n",
      "=================================================================\n",
      " dense (Dense)               (None, 32)                192       \n",
      "                                                                 \n",
      " dense_1 (Dense)             (None, 32)                1056      \n",
      "                                                                 \n",
      " dense_2 (Dense)             (None, 16)                528       \n",
      "                                                                 \n",
      " dense_3 (Dense)             (None, 16)                272       \n",
      "                                                                 \n",
      " dense_4 (Dense)             (None, 16)                272       \n",
      "                                                                 \n",
      " dense_5 (Dense)             (None, 5)                 85        \n",
      "                                                                 \n",
      "=================================================================\n",
      "Total params: 2,405\n",
      "Trainable params: 2,405\n",
      "Non-trainable params: 0\n",
      "_________________________________________________________________\n",
      "None\n"
     ]
    },
    {
     "data": {
      "image/png": "[encoded data removed]",
      "text/plain": [
       "<IPython.core.display.Image object>"
      ]
     },
     "execution_count": 9,
     "metadata": {},
     "output_type": "execute_result"
    }
   ],
   "source": [
    "# define model\n",
    "# create model\n",
    "model = Sequential()\n",
    "model.add(Dense(32, input_dim=5, activation='relu'))\n",
    "model.add(Dense(32, activation='relu'))\n",
    "model.add(Dense(16, activation='relu'))\n",
    "model.add(Dense(16, activation='relu'))\n",
    "model.add(Dense(16, activation='relu'))\n",
    "model.add(Dense(5, activation='softmax'))\n",
    "# Compile model\n",
    "model.compile(loss='categorical_crossentropy', optimizer='adam', metrics=['accuracy']) \n",
    "print(model.summary())\n",
    "dot_img_file1 = 'model_1.png'\n",
    "plot_model(model, to_file = dot_img_file1, show_shapes=True, show_layer_names=True)"
   ]
  },
  {
   "cell_type": "code",
   "execution_count": 10,
   "id": "e70123b1",
   "metadata": {},
   "outputs": [
    {
     "data": {
      "text/plain": [
       "\"\\n# define model\\n# create model\\nmodel = Sequential()\\nmodel.add(Dense(64, input_dim=5, activation='selu'))\\nmodel.add(AlphaDropout(0.2))\\nmodel.add(Dense(32, activation='selu'))\\nmodel.add(AlphaDropout(0.2))\\nmodel.add(Dense(16, activation='selu'))\\nmodel.add(AlphaDropout(0.2))\\nmodel.add(Dense(8, activation='selu'))\\nmodel.add(AlphaDropout(0.2))\\nmodel.add(Dense(3, activation='softmax'))\\n# Compile model\\nmodel.compile(loss='categorical_crossentropy', optimizer='adam', metrics=['accuracy']) \\nprint(model_m.summary())\\n\""
      ]
     },
     "execution_count": 10,
     "metadata": {},
     "output_type": "execute_result"
    }
   ],
   "source": [
    "'''\n",
    "# define model\n",
    "# create model\n",
    "model = Sequential()\n",
    "model.add(Dense(64, input_dim=5, activation='selu'))\n",
    "model.add(AlphaDropout(0.2))\n",
    "model.add(Dense(32, activation='selu'))\n",
    "model.add(AlphaDropout(0.2))\n",
    "model.add(Dense(16, activation='selu'))\n",
    "model.add(AlphaDropout(0.2))\n",
    "model.add(Dense(8, activation='selu'))\n",
    "model.add(AlphaDropout(0.2))\n",
    "model.add(Dense(3, activation='softmax'))\n",
    "# Compile model\n",
    "model.compile(loss='categorical_crossentropy', optimizer='adam', metrics=['accuracy']) \n",
    "print(model_m.summary())\n",
    "'''"
   ]
  },
  {
   "cell_type": "code",
   "execution_count": 11,
   "id": "5010d480",
   "metadata": {},
   "outputs": [
    {
     "data": {
      "text/plain": [
       "\"\\n#https://machinelearningmastery.com/cnn-models-for-human-activity-recognition-time-series-classification/\\n#https://blog.goodaudience.com/introduction-to-1d-convolutional-neural-networks-in-keras-for-time-sequences-3a7ff801a2cf\\nfrom matplotlib import pyplot\\nfrom keras.models import Sequential\\nfrom keras.layers import Dense\\nfrom keras.layers import Flatten\\nfrom keras.layers import Dropout\\nfrom keras.layers.convolutional import Conv1D\\nfrom keras.layers.convolutional import MaxPooling1D\\n\\nn_timesteps, n_features, n_outputs = 136, 5, 2\\n\\nprint(n_timesteps, n_features, n_outputs)\\n\\nmodel = Sequential()\\nmodel.add(Conv1D(100, 10, activation='relu', input_shape=(n_timesteps, n_features)))\\nmodel.add(Conv1D(100, 10, activation='relu'))\\nmodel.add(MaxPooling1D(2))\\nmodel.add(Conv1D(160, 10, activation='relu'))\\nmodel.add(Conv1D(160, 10, activation='relu'))\\nmodel.add(GlobalAveragePooling1D())\\nmodel.add(Dropout(0.2))\\nmodel.add(Dense(n_outputs, activation='softmax'))\\nmodel.compile(loss='categorical_crossentropy', optimizer='adam', metrics=['accuracy'])\\nprint(model.summary())\\n\""
      ]
     },
     "execution_count": 11,
     "metadata": {},
     "output_type": "execute_result"
    }
   ],
   "source": [
    "'''\n",
    "#https://machinelearningmastery.com/cnn-models-for-human-activity-recognition-time-series-classification/\n",
    "#https://blog.goodaudience.com/introduction-to-1d-convolutional-neural-networks-in-keras-for-time-sequences-3a7ff801a2cf\n",
    "from matplotlib import pyplot\n",
    "from keras.models import Sequential\n",
    "from keras.layers import Dense\n",
    "from keras.layers import Flatten\n",
    "from keras.layers import Dropout\n",
    "from keras.layers.convolutional import Conv1D\n",
    "from keras.layers.convolutional import MaxPooling1D\n",
    "\n",
    "n_timesteps, n_features, n_outputs = 136, 5, 2\n",
    "\n",
    "print(n_timesteps, n_features, n_outputs)\n",
    "\n",
    "model = Sequential()\n",
    "model.add(Conv1D(100, 10, activation='relu', input_shape=(n_timesteps, n_features)))\n",
    "model.add(Conv1D(100, 10, activation='relu'))\n",
    "model.add(MaxPooling1D(2))\n",
    "model.add(Conv1D(160, 10, activation='relu'))\n",
    "model.add(Conv1D(160, 10, activation='relu'))\n",
    "model.add(GlobalAveragePooling1D())\n",
    "model.add(Dropout(0.2))\n",
    "model.add(Dense(n_outputs, activation='softmax'))\n",
    "model.compile(loss='categorical_crossentropy', optimizer='adam', metrics=['accuracy'])\n",
    "print(model.summary())\n",
    "'''"
   ]
  },
  {
   "cell_type": "code",
   "execution_count": 12,
   "id": "96c97ff9",
   "metadata": {},
   "outputs": [
    {
     "data": {
      "text/plain": [
       "\"\\n#https://machinelearningmastery.com/how-to-develop-rnn-models-for-human-activity-recognition-time-series-classification/\\nfrom keras.layers import LSTM\\n\\nn_timesteps, n_features, n_outputs = 136, 5, 3\\n\\nmodel = Sequential()\\nmodel.add(LSTM(100, input_shape=(n_timesteps,n_features)))\\nmodel.add(Dropout(0.5))\\nmodel.add(Dense(100, activation='relu'))\\nmodel.add(Dense(n_outputs, activation='softmax'))\\nmodel.compile(loss='categorical_crossentropy', optimizer='adam', metrics=['accuracy'])\\nprint(model_m.summary())\\n\""
      ]
     },
     "execution_count": 12,
     "metadata": {},
     "output_type": "execute_result"
    }
   ],
   "source": [
    "'''\n",
    "#https://machinelearningmastery.com/how-to-develop-rnn-models-for-human-activity-recognition-time-series-classification/\n",
    "from keras.layers import LSTM\n",
    "\n",
    "n_timesteps, n_features, n_outputs = 136, 5, 3\n",
    "\n",
    "model = Sequential()\n",
    "model.add(LSTM(100, input_shape=(n_timesteps,n_features)))\n",
    "model.add(Dropout(0.5))\n",
    "model.add(Dense(100, activation='relu'))\n",
    "model.add(Dense(n_outputs, activation='softmax'))\n",
    "model.compile(loss='categorical_crossentropy', optimizer='adam', metrics=['accuracy'])\n",
    "print(model_m.summary())\n",
    "'''"
   ]
  },
  {
   "cell_type": "code",
   "execution_count": 13,
   "id": "866b4738",
   "metadata": {},
   "outputs": [
    {
     "data": {
      "text/plain": [
       "\"\\nfrom keras.layers import TimeDistributed\\n\\nmodel = Sequential()\\nmodel.add(TimeDistributed(Conv1D(filters=64, kernel_size=3, activation='relu'), input_shape=(None,n_length,n_features)))\\nmodel.add(TimeDistributed(Conv1D(filters=64, kernel_size=3, activation='relu')))\\nmodel.add(TimeDistributed(Dropout(0.5)))\\nmodel.add(TimeDistributed(MaxPooling1D(pool_size=2)))\\nmodel.add(TimeDistributed(Flatten()))\\nmodel.add(LSTM(100))\\nmodel.add(Dropout(0.5))\\nmodel.add(Dense(100, activation='relu'))\\nmodel.add(Dense(n_outputs, activation='softmax'))\\nprint(model_m.summary())\\n\""
      ]
     },
     "execution_count": 13,
     "metadata": {},
     "output_type": "execute_result"
    }
   ],
   "source": [
    "'''\n",
    "from keras.layers import TimeDistributed\n",
    "\n",
    "model = Sequential()\n",
    "model.add(TimeDistributed(Conv1D(filters=64, kernel_size=3, activation='relu'), input_shape=(None,n_length,n_features)))\n",
    "model.add(TimeDistributed(Conv1D(filters=64, kernel_size=3, activation='relu')))\n",
    "model.add(TimeDistributed(Dropout(0.5)))\n",
    "model.add(TimeDistributed(MaxPooling1D(pool_size=2)))\n",
    "model.add(TimeDistributed(Flatten()))\n",
    "model.add(LSTM(100))\n",
    "model.add(Dropout(0.5))\n",
    "model.add(Dense(100, activation='relu'))\n",
    "model.add(Dense(n_outputs, activation='softmax'))\n",
    "print(model_m.summary())\n",
    "'''"
   ]
  },
  {
   "cell_type": "code",
   "execution_count": 14,
   "id": "6b69eada",
   "metadata": {},
   "outputs": [
    {
     "name": "stdout",
     "output_type": "stream",
     "text": [
      "(1293, 5)\n",
      "(1293, 5)\n"
     ]
    }
   ],
   "source": [
    "print(X_train.shape)\n",
    "print(y_train.shape)\n",
    "history = model.fit(X_train, y_train, verbose=0, epochs=1000, validation_split = 0.05, callbacks = [rlrop])"
   ]
  },
  {
   "cell_type": "code",
   "execution_count": 15,
   "id": "64573d85",
   "metadata": {},
   "outputs": [
    {
     "data": {
      "image/png": "[encoded data removed]",
      "text/plain": [
       "<Figure size 640x480 with 1 Axes>"
      ]
     },
     "metadata": {},
     "output_type": "display_data"
    }
   ],
   "source": [
    "# Loss History\n",
    "plt.plot(history.history['loss'])\n",
    "plt.plot(history.history['val_loss'])\n",
    "plt.title('Model Loss')\n",
    "plt.ylabel('Loss')\n",
    "plt.xlabel('Epoch')\n",
    "plt.legend(['Train', 'Test'], loc='upper left')\n",
    "plt.savefig('mlp_moxdata.png', dpi=300)\n",
    "plt.show()"
   ]
  },
  {
   "cell_type": "code",
   "execution_count": 16,
   "id": "a4bbacdf",
   "metadata": {},
   "outputs": [
    {
     "name": "stdout",
     "output_type": "stream",
     "text": [
      "11/11 [==============================] - 0s 2ms/step\n",
      "11/11 [==============================] - 0s 1ms/step\n"
     ]
    },
    {
     "data": {
      "text/plain": [
       "array([[  0,   0,   0,   0,  41],\n",
       "       [  0,   0,   0,   0,  40],\n",
       "       [  0,   0,   0,   0,  51],\n",
       "       [  0,   0,   0,   0,  59],\n",
       "       [  0,   0,   0,   0, 133]], dtype=int64)"
      ]
     },
     "execution_count": 16,
     "metadata": {},
     "output_type": "execute_result"
    }
   ],
   "source": [
    "predict_x=model.predict(X_test) \n",
    "y_pred_class=np.argmax(predict_x,axis=1)\n",
    "\n",
    "y_pred = model.predict(X_test)\n",
    "y_test_class = np.argmax(y_test, axis=1)\n",
    "confusion_matrix(y_test_class, y_pred_class)"
   ]
  },
  {
   "cell_type": "code",
   "execution_count": 17,
   "id": "93c1820a",
   "metadata": {},
   "outputs": [
    {
     "name": "stdout",
     "output_type": "stream",
     "text": [
      "              precision    recall  f1-score   support\n",
      "\n",
      "           0       0.00      0.00      0.00        41\n",
      "           1       0.00      0.00      0.00        40\n",
      "           2       0.00      0.00      0.00        51\n",
      "           3       0.00      0.00      0.00        59\n",
      "           4       0.41      1.00      0.58       133\n",
      "\n",
      "    accuracy                           0.41       324\n",
      "   macro avg       0.08      0.20      0.12       324\n",
      "weighted avg       0.17      0.41      0.24       324\n",
      "\n"
     ]
    }
   ],
   "source": [
    "print(classification_report(y_test_class, y_pred_class))"
   ]
  },
  {
   "cell_type": "code",
   "execution_count": 18,
   "id": "9861e48c",
   "metadata": {},
   "outputs": [
    {
     "name": "stdout",
     "output_type": "stream",
     "text": [
      "[[  0   0   0   0  41]\n",
      " [  0   0   0   0  40]\n",
      " [  0   0   0   0  51]\n",
      " [  0   0   0   0  59]\n",
      " [  0   0   0   0 133]]\n",
      "              precision    recall  f1-score   support\n",
      "\n",
      "           0       0.00      0.00      0.00        41\n",
      "           1       0.00      0.00      0.00        40\n",
      "           2       0.00      0.00      0.00        51\n",
      "           3       0.00      0.00      0.00        59\n",
      "           4       0.41      1.00      0.58       133\n",
      "\n",
      "    accuracy                           0.41       324\n",
      "   macro avg       0.08      0.20      0.12       324\n",
      "weighted avg       0.17      0.41      0.24       324\n",
      "\n",
      "0.4104938271604938\n",
      "[[  0   0   0   0  41]\n",
      " [  0   0   0   0  40]\n",
      " [  0   0   0   0  51]\n",
      " [  0   0   0   0  59]\n",
      " [  0   0   0   0 133]]\n",
      "0.4104938271604938\n"
     ]
    }
   ],
   "source": [
    "#print(roc_auc_score(y_test_class, y_pred_class))\n",
    "print(confusion_matrix(y_test_class, y_pred_class))\n",
    "print(classification_report(y_test_class, y_pred_class))\n",
    "\n",
    "print(precision_score(y_test_class, y_pred_class, average='micro'))\n",
    "print(confusion_matrix(y_test_class, y_pred_class))\n",
    "print(recall_score(y_test_class, y_pred_class, average='micro'))\n"
   ]
  },
  {
   "cell_type": "code",
   "execution_count": 19,
   "id": "4f36efe8",
   "metadata": {},
   "outputs": [
    {
     "name": "stdout",
     "output_type": "stream",
     "text": [
      "0.4104938271604938\n"
     ]
    }
   ],
   "source": [
    "print(accuracy_score(y_test_class, y_pred_class))"
   ]
  },
  {
   "cell_type": "code",
   "execution_count": 20,
   "id": "a79ba897",
   "metadata": {},
   "outputs": [],
   "source": [
    "cf_matrix = confusion_matrix(y_test_class, y_pred_class)"
   ]
  },
  {
   "cell_type": "code",
   "execution_count": 21,
   "id": "d1751b9d",
   "metadata": {},
   "outputs": [
    {
     "data": {
      "text/plain": [
       "Text(50.722222222222214, 0.5, 'Actual values ')"
      ]
     },
     "execution_count": 21,
     "metadata": {},
     "output_type": "execute_result"
    },
    {
     "data": {
      "image/png": "[encoded data removed]",
      "text/plain": [
       "<Figure size 640x480 with 2 Axes>"
      ]
     },
     "metadata": {},
     "output_type": "display_data"
    }
   ],
   "source": [
    "import seaborn as sns \n",
    "\n",
    "ax = sns.heatmap(cf_matrix, annot=True, cmap='Blues') \n",
    "ax.set_title('MOX2-5 data confusion matrix with labels') \n",
    "ax.set_xlabel('Predicted values') \n",
    "ax.set_ylabel('Actual values ') ## Ticket labels - List must be in alphabetical order ax.xaxis.set_ticklabels(['False','True']) ax.yaxis.set_ticklabels(['False','True']) ## Display the visualization of the Confusion Matrix. plt.show()\n"
   ]
  },
  {
   "cell_type": "code",
   "execution_count": 22,
   "id": "974a4edf",
   "metadata": {},
   "outputs": [],
   "source": [
    "fig = ax.get_figure()\n",
    "fig.savefig('mlp_moxdata_confusion.png', dpi=300)"
   ]
  },
  {
   "cell_type": "code",
   "execution_count": null,
   "id": "39375168",
   "metadata": {},
   "outputs": [],
   "source": []
  }
 ],
 "metadata": {
  "kernelspec": {
   "display_name": "Python 3 (ipykernel)",
   "language": "python",
   "name": "python3"
  },
  "language_info": {
   "codemirror_mode": {
    "name": "ipython",
    "version": 3
   },
   "file_extension": ".py",
   "mimetype": "text/x-python",
   "name": "python",
   "nbconvert_exporter": "python",
   "pygments_lexer": "ipython3",
   "version": "3.9.15"
  }
 },
 "nbformat": 4,
 "nbformat_minor": 5
}
